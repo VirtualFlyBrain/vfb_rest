{
 "cells": [
  {
   "cell_type": "code",
   "execution_count": 17,
   "metadata": {},
   "outputs": [
    {
     "name": "stdout",
     "output_type": "stream",
     "text": [
      "{'url': 'http://localhost:7474', 'usr': 'neo4j', 'pwd': 'nicolas123D.'}\n"
     ]
    }
   ],
   "source": [
    "import yaml\n",
    "import sys\n",
    "import warnings\n",
    "import json\n",
    "from neo4j_tools import neo4j_connect,  results_2_dict_list\n",
    "\n",
    "config = yaml.load(open('schema/neo_schema.yml'))\n",
    "nc = neo4j_connect(config['url'], config['usr'], config['pwd'])"
   ]
  },
  {
   "cell_type": "code",
   "execution_count": 24,
   "metadata": {
    "collapsed": true
   },
   "outputs": [],
   "source": [
    "def query(query):\n",
    "    q = nc.commit_list([query])\n",
    "    if not q:\n",
    "        return False\n",
    "    dc = results_2_dict_list(q)\n",
    "    if not dc:\n",
    "        return False\n",
    "    else:\n",
    "        return dc\n",
    "\n",
    "def query_ind_count(query):\n",
    "    q = nc.commit_list([query])\n",
    "    if not q:\n",
    "        return False\n",
    "    dc = results_2_dict_list(q)\n",
    "    if not dc:\n",
    "        return False\n",
    "    if not ('ind_count' in dc[0].keys()):\n",
    "        warnings.warn(\"Query has no ind_count\")\n",
    "        return False\n",
    "    else:\n",
    "        return dc[0]['ind_count']\n",
    "\n",
    "def compare(dataset, description, query1, query2, verbose = False, write_reports = False):\n",
    "    r1 = query(query1)[0]\n",
    "    r2 = query(query2)[0]\n",
    "    if r1['ind_count'] == r2['ind_count']:\n",
    "        if verbose:\n",
    "            print(query2)\n",
    "            print(\"Testing assertion:\" + description)\n",
    "            print(\"Result: True\")\n",
    "        return True\n",
    "    else:\n",
    "        if verbose:\n",
    "            print(\"Testing assertion:\" + description)\n",
    "            print(query2)\n",
    "            print(\"Result: inds_in_datset: %d ; Compliant with pattern: %d\" % (r1['ind_count'],  r2['ind_count']))\n",
    "        # Should probably turn this into a report\n",
    "        if write_reports:\n",
    "            bad_inds = list(set(r1['ind_list']) - set(r2['ind_list']))\n",
    "            file = open(dataset + \".report\", 'w')\n",
    "            file.write(json.dumps(bad_inds))\n",
    "            file.close()\n",
    "        return False"
   ]
  },
  {
   "cell_type": "code",
   "execution_count": 25,
   "metadata": {},
   "outputs": [
    {
     "name": "stdout",
     "output_type": "stream",
     "text": [
      "Testing: Yu2013\n",
      "Testing: Ito2013\n",
      "Testing: Cachero2010\n",
      "Testing: Chiang2010\n",
      "Testing: Knowles-Barley2010\n",
      "Testing: Jenett2012\n",
      "Testing: CostaJefferis_v3\n",
      "Testing: Aso2014\n",
      "Testing: Dickson_VT\n",
      "Testing: JenettShinomya_BrainName\n",
      "Testing: Kohl2013\n",
      "Testing: Matsuo2016\n",
      "Testing: BrainName_Ito_half_brain\n",
      "Testing: CostaJefferis_v2\n",
      "This dataset has no content\n"
     ]
    }
   ],
   "source": [
    "datasets = nc.commit_list([\"MATCH (ds:DataSet) RETURN ds.label\"])\n",
    "dc = results_2_dict_list(datasets)\n",
    "\n",
    "return_state = True\n",
    "\n",
    "for d in dc:\n",
    "    ds = d['ds.label']\n",
    "    dataset_status = True\n",
    "    print (\"Testing: \" + ds)\n",
    "    final_clauses = \" WHERE ds.label = '%s' RETURN COUNT (DISTINCT i) as ind_count\" \\\n",
    "                    \", COLLECT(i.short_form) as ind_list\" % ds\n",
    "    base_query = \"MATCH (ds:DataSet)<-[:has_source]-(i:Individual)\"\n",
    "    new_base_query = \"MATCH (ds:DataSet)<-[:Annotation { short_form: 'source'}]-(i:Individual)\"\n",
    "    query1 = base_query + final_clauses\n",
    "    if query_ind_count(base_query + final_clauses) == 0:\n",
    "        if query_ind_count(new_base_query + final_clauses):\n",
    "            base_query = new_base_query\n",
    "            print(\"Using new schema for tests.\")\n",
    "        else:\n",
    "            print(\"This dataset has no content\")\n",
    "            continue\n",
    "   \n",
    "    extended_base_query = base_query + \"<-[:Related { short_form: 'depicts' }]-(j:Individual)\"\n",
    "    query2 = extended_base_query + final_clauses\n",
    "    query3 = extended_base_query + \"-[{ iri: 'http://purl.obolibrary.org/obo/RO_0002026' }]->(k:Individual)\" + final_clauses\n",
    "    query4 = extended_base_query + \"-[:Related { label: 'is_specified_output_of'} ]->(:Class)\" + final_clauses\n",
    "    query5 = extended_base_query + \"-[:INSTANCEOF]->(c:Class { label: 'channel'})\" + final_clauses\n",
    "    query6 = base_query + \"-[:INSTANCEOF]->(c:Class)\" + final_clauses\n",
    "\n",
    "    test_stats = []\n",
    "\n",
    "    test_stats.append(compare(dataset=ds,\n",
    "                              description=\"All anatomical individuals in dataset have matching channel individuals.\",\n",
    "                              query1=query1,\n",
    "                              query2=query2))\n",
    "    test_stats.append(compare(description=\"All anatomical individuals in dataset have matching registered channel individuals.\",\n",
    "                              dataset=ds,\n",
    "                              query1=query1,\n",
    "                              query2=query3))\n",
    "    test_stats.append(compare(description=\"All anatomical individuals in dataset have matching channel individuals with imaging method\",\n",
    "                              dataset=ds,\n",
    "                              query1=query1,\n",
    "                              query2=query4))\n",
    "    test_stats.append(compare(description=\"All anatomical individuals in dataset have matching channel, typed individuals\",\n",
    "                              dataset=ds,\n",
    "                              query1=query1,\n",
    "                              query2=query5))\n",
    "    test_stats.append(compare(description=\"All anatomical individuals in dataset are typed\",\n",
    "                              dataset=ds,\n",
    "                              query1=query1,\n",
    "                              query2=query4))\n",
    "    if False in test_stats:\n",
    "        return_state = False\n",
    "    else:\n",
    "        print(\"Passes!\")\n",
    "    \n",
    "    returncode = ''\n",
    "    if return_state:\n",
    "        returncode = '0'\n",
    "    else: \n",
    "        returncode = '1'\n",
    "    \n",
    "    with open(\"schemaconformance.txt\", \"w\") as text_file:\n",
    "        print(f\"{returncode}\", file=text_file)"
   ]
  },
  {
   "cell_type": "code",
   "execution_count": null,
   "metadata": {
    "collapsed": true
   },
   "outputs": [],
   "source": []
  },
  {
   "cell_type": "code",
   "execution_count": null,
   "metadata": {
    "collapsed": true
   },
   "outputs": [],
   "source": []
  },
  {
   "cell_type": "code",
   "execution_count": null,
   "metadata": {
    "collapsed": true
   },
   "outputs": [],
   "source": []
  }
 ],
 "metadata": {
  "kernelspec": {
   "display_name": "Python 3",
   "language": "python",
   "name": "python3"
  },
  "language_info": {
   "codemirror_mode": {
    "name": "ipython",
    "version": 3
   },
   "file_extension": ".py",
   "mimetype": "text/x-python",
   "name": "python",
   "nbconvert_exporter": "python",
   "pygments_lexer": "ipython3",
   "version": "3.6.3"
  }
 },
 "nbformat": 4,
 "nbformat_minor": 2
}
